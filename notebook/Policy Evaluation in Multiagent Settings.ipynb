{
 "cells": [
  {
   "cell_type": "markdown",
   "metadata": {},
   "source": [
    "# Introduction"
   ]
  },
  {
   "cell_type": "markdown",
   "metadata": {},
   "source": [
    "The accurate policy evalutation is important: if the expected return (i.e., sum of future rewards) given a particular policy cannot be correctly evaluated, then policy would not be able to improve (Sutton and Barto, Chapter $4$).  \n",
    "\n",
    "The naive value function assumes all agents follow a **static** joint policy in the future. \n",
    "This assumption is often violated in multiagent settings as the other agents are also learning agents, so they have **non-stationary** policies in the future.  \n",
    "\n",
    "Consequently, we empirically prove in this notebook that the naive value function fails to estimate the expected reutrn accurately, and further show that **if an agent considers further future policies of its peers, then the agent has more accurate policy evaluation**."
   ]
  },
  {
   "cell_type": "markdown",
   "metadata": {},
   "source": [
    "# Experiment Overview"
   ]
  },
  {
   "cell_type": "markdown",
   "metadata": {},
   "source": [
    "## Domain"
   ]
  },
  {
   "cell_type": "markdown",
   "metadata": {},
   "source": [
    "The hallway environment (refer to LeCTR) with $2$ agents is considered for the experiment:  \n",
    "* There are $n$ states in the domain.\n",
    "* Each agent has $2$ actions: whether to move right/left at each state.\n",
    "* Agents receive +1 if and only if one agent is at the beginning of the hallway and the other agent is located at the end of the hallway. Then, the game terminates (i.e., terminal state).\n",
    "* Otherwise, agents receive +0."
   ]
  },
  {
   "cell_type": "markdown",
   "metadata": {},
   "source": [
    "## Policy"
   ]
  },
  {
   "cell_type": "markdown",
   "metadata": {},
   "source": [
    "* Agent $1$ has a random policy: selects either action with probability of $0.5$.\n",
    "* Agent $2$ has a time-varying policy: $p(a^{2}_{t}=Left)$ and $p(a^{2}_{t}=Right)$ linearly decreases and increases, respectively, over time."
   ]
  },
  {
   "cell_type": "markdown",
   "metadata": {},
   "source": [
    "## Comparisons:"
   ]
  },
  {
   "cell_type": "markdown",
   "metadata": {},
   "source": [
    "* **True** return: Monte-carlo sampling is applied with many independent runs (e.g., $100$ runs), which closely approximate the true return with many samples.\n",
    "\n",
    "* Naive learning: $V^{1}_{\\pi_{t}}(s_{t})=\\sum_{{a_t}\\in\\mathcal{A}}\\pi_{t}^{1}(a^{1}_{t}|s_{t})\\pi^2_{t}(a^2_{t}|s_{t})\\sum_{s_{t+1}\\in\\mathcal{S}}\\mathcal{T}(s_{t+1}|s_{t},a_{t})\\Big[R^1(s_{t},a^{i}_{t})+\\gamma V^{1}_{\\pi_t}(s_{t+1})\\Big]$\n",
    "\n",
    "* Ours (1-step look-ahead): $V^{1}_{\\pi_{t}}(s_{t})=\\sum_{{a_t}\\in\\mathcal{A}}\\pi^{1}_{t}(a^{1}_{t}|s_{t})\\pi^{2}_{t}(a^{2}_{t}|s_{t})\\sum_{s_{t+1}\\in\\mathcal{S}}\\mathcal{T}(s_{t+1}|s_{t},a_{t})\\Bigg[R^1(s_{t},a_{t})+\\gamma \\Bigg[\\sum_{{a_{t+1}}\\in\\mathcal{A}}\\pi^{1}_{t+1}(a^1_{t+1}|s_{t+1})\\pi^{2}_{t+1}(a^{2}_{t+1}|s_{t+1})\\sum_{s_{t+2}\\in\\mathcal{S}}\\mathcal{T}(s_{t+2}|s_{t+1},a_{t+1})\\Big[R^{1}(s_{t+1},a_{t+1})+\\gamma V^{1}_{\\pi_{t+1}}(s_{t+2})\\Bigg]\\Bigg]$\n",
    "\n",
    "* Ours (2-step look-ahead): $V^{1}_{\\pi_{t}}(s_{t})=\\sum_{{a_t}\\in\\mathcal{A}}\\pi^{1}_{t}(a^{1}_{t}|s_{t})\\pi^{2}_{t}(a^{2}_{t}|s_{t})\\sum_{s_{t+1}\\in\\mathcal{S}}\\mathcal{T}(s_{t+1}|s_{t},a_{t})\\Bigg[R^1(s_{t},a_{t})+\\gamma \\Bigg[\\sum_{{a_{t+1}}\\in\\mathcal{A}}\\pi^{1}_{t+1}(a^1_{t+1}|s_{t+1})\\pi^{2}_{t+1}(a^{2}_{t+1}|s_{t+1})\\sum_{s_{t+2}\\in\\mathcal{S}}\\mathcal{T}(s_{t+2}|s_{t+1},a_{t+1})\\Bigg[R^{1}(s_{t+1},a_{t+1})+\\gamma \\Big[\\sum_{{a_{t+2}}\\in\\mathcal{A}}\\pi^{1}_{t+2}(a^1_{t+2}|s_{t+2})\\pi^{2}_{t+2}(a^{2}_{t+2}|s_{t+2})\\sum_{s_{t+3}\\in\\mathcal{S}}\\mathcal{T}(s_{t+3}|s_{t+2},a_{t+2})\\Big[R^{1}(s_{t+2},a_{t+2})+\\gamma V^{1}_{\\pi_{t+2}}(s_{t+3})\\Big]\\Big]\\Bigg]\\Bigg]$\n",
    "\n",
    "* Ours (N-step look-ahead): Continue to replace the value function on the right hand side with N-future policies"
   ]
  },
  {
   "cell_type": "markdown",
   "metadata": {},
   "source": [
    "## Assumptions\n",
    "As dynamic programming is used to do the policy evaluation, the followings are assummed:\n",
    "* Access to a model of an environment: state space, action space, transition function, reward function\n",
    "* Access to opponent's policy and its future policies"
   ]
  },
  {
   "cell_type": "markdown",
   "metadata": {},
   "source": [
    "# Result"
   ]
  },
  {
   "cell_type": "markdown",
   "metadata": {},
   "source": [
    "Please run *_train.sh* which will automatically run and save results in the \"data/\" folder."
   ]
  },
  {
   "cell_type": "markdown",
   "metadata": {},
   "source": [
    "## Visualization of true return"
   ]
  },
  {
   "cell_type": "code",
   "execution_count": 1,
   "metadata": {},
   "outputs": [
    {
     "data": {
      "text/plain": [
       "<Figure size 640x480 with 1 Axes>"
      ]
     },
     "metadata": {},
     "output_type": "display_data"
    }
   ],
   "source": [
    "# Setup path\n",
    "import os, sys\n",
    "sys.path.append(os.path.dirname(os.path.abspath('')))\n",
    "\n",
    "# Import libraries\n",
    "import numpy as np\n",
    "from misc.vis import vis\n",
    "\n",
    "# Read true return (montecarlo) data\n",
    "true_return = np.load(\"../data/montecarlo_100.npy\")\n",
    "vis(true_return)"
   ]
  },
  {
   "cell_type": "markdown",
   "metadata": {},
   "source": [
    "## Difference compared to the ground-truth\n",
    "We perform dynamic programming for each method, train until converges, and then compare to the true return.\n"
   ]
  },
  {
   "cell_type": "code",
   "execution_count": 2,
   "metadata": {},
   "outputs": [
    {
     "name": "stdout",
     "output_type": "stream",
     "text": [
      "Naive diff: 1.91077\n",
      "Ours diff : 1.90692 at lookahead 1\n",
      "Ours diff : 1.89932 at lookahead 2\n",
      "Ours diff : 1.88655 at lookahead 3\n",
      "Ours diff : 1.86871 at lookahead 4\n",
      "Ours diff : 1.84578 at lookahead 5\n",
      "Ours diff : 1.81791 at lookahead 6\n",
      "Ours diff : 1.78509 at lookahead 7\n",
      "Ours diff : 1.74743 at lookahead 8\n",
      "Ours diff : 1.70497 at lookahead 9\n"
     ]
    }
   ],
   "source": [
    "# Naive comparison\n",
    "naive = np.load(\"../data/naive_100.npy\")\n",
    "naive_diff = np.sum((true_return - naive).flatten())\n",
    "print(\"Naive diff: {:.5f}\".format(naive_diff))\n",
    "\n",
    "# Ours comparison\n",
    "ours_diffs = []\n",
    "n_lookaheads = [n for n in range(1,10)]\n",
    "for n in n_lookaheads:\n",
    "    ours = np.load(\"../data/ours_100_\" + str(n) + \".npy\")\n",
    "    ours_diff = np.sum((true_return - ours).flatten())\n",
    "    print(\"Ours diff : {:.5f} at lookahead {}\".format(ours_diff, n))\n",
    "    ours_diffs.append(ours_diff)"
   ]
  },
  {
   "cell_type": "code",
   "execution_count": 3,
   "metadata": {},
   "outputs": [
    {
     "data": {
      "text/plain": [
       "Text(0,0.5,'Difference between true expected return')"
      ]
     },
     "execution_count": 3,
     "metadata": {},
     "output_type": "execute_result"
    },
    {
     "data": {
      "image/png": "[encoded data removed]",
      "text/plain": [
       "<Figure size 432x288 with 1 Axes>"
      ]
     },
     "metadata": {},
     "output_type": "display_data"
    }
   ],
   "source": [
    "# Additionally plot\n",
    "import matplotlib.pyplot as plt\n",
    "\n",
    "n_lookaheads = [n for n in range(10)]\n",
    "for n in n_lookaheads:\n",
    "    # Naive plot\n",
    "    if n == 0:\n",
    "        plt.scatter(n, naive_diff)\n",
    "    # ours plot\n",
    "    else:\n",
    "        plt.scatter(n, ours_diffs[n - 1])\n",
    "        \n",
    "plt.xlabel(\"# of Lookahead\")\n",
    "plt.ylabel(\"Difference between true expected return\")"
   ]
  },
  {
   "cell_type": "code",
   "execution_count": null,
   "metadata": {},
   "outputs": [],
   "source": []
  },
  {
   "cell_type": "code",
   "execution_count": null,
   "metadata": {},
   "outputs": [],
   "source": []
  }
 ],
 "metadata": {
  "kernelspec": {
   "display_name": "Python 3",
   "language": "python",
   "name": "python3"
  },
  "language_info": {
   "codemirror_mode": {
    "name": "ipython",
    "version": 3
   },
   "file_extension": ".py",
   "mimetype": "text/x-python",
   "name": "python",
   "nbconvert_exporter": "python",
   "pygments_lexer": "ipython3",
   "version": "3.6.5"
  }
 },
 "nbformat": 4,
 "nbformat_minor": 2
}
